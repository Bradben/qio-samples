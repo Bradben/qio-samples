{
 "cells": [
  {
   "cell_type": "markdown",
   "metadata": {},
   "source": [
    "# The Knapsack Problem\n",
    "\n",
    "| value | description |\n",
    "| :---- | :-------------------- |\n",
    "| $N$ | number of objects |\n",
    "| $a$ | indice of objects |\n",
    "| $W$ | weight limit the knapsack can carry |\n",
    "| $c_{a}$ | value of each object |\n",
    "| $w_{a}$ | weight of each object |\n",
    "| $x_{a}$ | binary variable <br> 1 &rarr; object is in the knapsack <br> 0 &rarr; object is not in the knapsack |\n",
    "| $y_{n}$ | binary variable <br> 1 &rarr; the final weight is $n$ <br> 0 &rarr; the final weight it not $n$ |\n",
    "\n",
    "We have a knapsack/bag that can hold a maximal weight $W$. We also have $N$ objects, lables by the indice $a$, each having an own weight $w_{a}$ and a value $c_{a}$. The binary variable $x_{a}$ shows whether the object is in the knapsack/bag being 1 or not being 0.\n",
    "We wish to maximize $c$ and have the constraint $w \\le W$.\n",
    "We will write our cost function as $H = H_{A} + H_{B}$, where\n",
    "\n",
    "$H_{A}$ ensures that the weight can only take on one value and it equals the value we claim it does.\n",
    "$H_{A} = A (1 - \\sum_{n=1}^W y_{n})^2 + A (\\sum_{n=1}^W ny_{n} - \\sum_{a}w_{a}x_{a})^2$\n",
    "\n",
    "$H_{B}$ aims at maximizing the value being held by the knapsack/bag. <br>\n",
    "$H_{B} = -B \\sum_{a}c_{a}x_{a}$\n",
    "\n",
    "Additionally adding one object to the knapsack/bag which will lead to $n > W$ should not be allowed. Therefore we require $0 < B max(c_{a}) < A$."
   ]
  },
  {
   "cell_type": "markdown",
   "metadata": {},
   "source": [
    "To connect to the Azure Quantum workspace you've previously deployed you will need to import the needed libraries.\n",
    "Get the workspace information from the Overview if your workspace in the portal. You can also retreive this infotmation by running 'az quantum workspace show'. Copy them here:"
   ]
  },
  {
   "cell_type": "code",
   "execution_count": null,
   "metadata": {},
   "outputs": [],
   "source": [
    "from azure.quantum.optimization import Term\n",
    "from math import floor, log2\n",
    "from azure.quantum import Workspace\n",
    "\n",
    "workspace = Workspace (\n",
    "  subscription_id = \"\",\n",
    "  resource_group = \"\",\n",
    "  name = \"\",\n",
    "  location = \"\"\n",
    ")"
   ]
  },
  {
   "cell_type": "markdown",
   "metadata": {},
   "source": [
    "Derived by Lucas paper we are going to implement $W = (W +1 - 2^M) + \\sum_{i=0}^{M-1} 2^i$. <br>\n",
    "$W = (W +1 - 2^M)$ represents the last step. <br>\n",
    "\n",
    "**costsArray** contains $c_{a}$ (values of each object) <br>\n",
    "**costsArray** contains $w_{a}$ (weights of each object) <br>\n",
    "**maxCosts** is the maximal $w_{a}$ in the costsArray <br>\n",
    "**n** equals $N$ (number of objects) <br>\n",
    "**M** is the sqare root of $W$ (weight limit the knapsack can carry) <br>\n",
    "**i** is an indice<br>\n",
    "**j** is an indice<br>\n",
    "**k** is the formular to encode $W$ by the auxiliary variable y<br>\n",
    "**y** is an auxiliary variable. Defined as $y_{0} \\le y_{i} \\le y_{M}$<br>\n"
   ]
  },
  {
   "cell_type": "code",
   "execution_count": null,
   "metadata": {},
   "outputs": [],
   "source": [
    "def knapsackHamiltonian(costsArray, weightsArray, W):\n",
    "    \n",
    "    terms = []\n",
    "\n",
    "    maxCosts = max(costsArray)\n",
    "\n",
    "    n = len(costsArray)\n",
    "\n",
    "    M = floor(log2(W))\n",
    "\n",
    "    k = [2**i for i in range(M)]\n",
    "    \n",
    "    # the mentioned last step\n",
    "    k.append(W + 1 - 2**M)\n",
    "    \n",
    "    # x-Term\n",
    "    for i in range(n):\n",
    "        terms.append(Term(c=float(maxCosts * (weightsArray[i]**2) - costsArray[i]), indices=[i]))\n",
    "\n",
    "    # x-x Term\n",
    "    for i in range(n):\n",
    "        for j in range(i+1, n):\n",
    "            terms.append(Term(c=float(2*maxCosts*weightsArray[i]*weightsArray[j]), indices=[i,j]))\n",
    "\n",
    "    # x-y Term\n",
    "    for i in range(n):\n",
    "        for j in range(M+1):\n",
    "            terms.append(Term(c=float(-2*maxCosts*weightsArray[i]*k[j]), indices=[i,(n-1)+j]))\n",
    "\n",
    "    # y Term\n",
    "    for i in range(M+1):\n",
    "        terms.append(Term(c=float(maxCosts*(k[i]**2)), indices=[(n-1)+i]))\n",
    "        \n",
    "\n",
    "    # y-y Term\n",
    "    for i in range(M+1):\n",
    "        for j in range(i+1, M+1):\n",
    "            terms.append(Term(c=float(2*maxCosts*k[i]*k[j]), indices=[(n-1)+i,(n-1)+j]))\n",
    "\n",
    "    return terms"
   ]
  },
  {
   "cell_type": "markdown",
   "metadata": {},
   "source": [
    "Import the modules needed to run your problem. Change the imported Solver if you wish to solve with a different method.\n"
   ]
  },
  {
   "cell_type": "code",
   "execution_count": null,
   "metadata": {},
   "outputs": [],
   "source": [
    "from azure.quantum.optimization import Problem, ProblemType\n",
    "from azure.quantum.optimization import SimulatedAnnealing"
   ]
  },
  {
   "cell_type": "markdown",
   "metadata": {},
   "source": [
    "Here you can add the values $c$ and weights $w$ of your objects and the maximum weight $W$ the knapsack/bag can hold."
   ]
  },
  {
   "cell_type": "code",
   "execution_count": null,
   "metadata": {},
   "outputs": [],
   "source": [
    "costsArray = [5, 4, 2, 1, 4]\n",
    "weightsArray = [7, 2, 5, 6, 8]\n",
    "Weight = 15"
   ]
  },
  {
   "cell_type": "markdown",
   "metadata": {},
   "source": [
    "Here you initialize the term formulation and define the parameters for the problem and the solver."
   ]
  },
  {
   "cell_type": "code",
   "execution_count": null,
   "metadata": {},
   "outputs": [],
   "source": [
    "terms = knapsackHamiltonian(costsArray, weightsArray, Weight)\n",
    "problem = Problem(name=\"knapsack problem\", problem_type=ProblemType.pubo, terms=terms)\n",
    "solver = SimulatedAnnealing(workspace, timeout=100, seed=22)"
   ]
  },
  {
   "cell_type": "markdown",
   "metadata": {},
   "source": [
    "Here you submit the terms to the solver in form of a job. You request the results from the job ans display them."
   ]
  },
  {
   "cell_type": "code",
   "execution_count": null,
   "metadata": {},
   "outputs": [],
   "source": [
    "job = solver.submit(problem)\n",
    "job.refresh()\n",
    "result = job.get_results()\n",
    "config = result['configuration']\n",
    "resultitems = []\n",
    "for i in config.keys():\n",
    "    if config[i]:\n",
    "         resultitems.append(int(i))\n",
    "    \n",
    "for i in resultitems:\n",
    "    if i < len(costsArray):\n",
    "        print(\"Picked item number \" + str(i))"
   ]
  }
 ],
 "metadata": {
  "kernelspec": {
   "display_name": "Python 3 (ipykernel)",
   "language": "python",
   "name": "python3"
  },
  "language_info": {
   "codemirror_mode": {
    "name": "ipython",
    "version": 3
   },
   "file_extension": ".py",
   "mimetype": "text/x-python",
   "name": "python",
   "nbconvert_exporter": "python",
   "pygments_lexer": "ipython3",
   "version": "3.10.0"
  }
 },
 "nbformat": 4,
 "nbformat_minor": 2
}
