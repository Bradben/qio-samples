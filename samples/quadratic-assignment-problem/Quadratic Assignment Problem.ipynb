{
 "cells": [
  {
   "cell_type": "markdown",
   "metadata": {},
   "source": [
    "# Quadratic Assignment Problem Sample\n",
    "\n",
    "## Introduction\n",
    "The quadratic assignment problem (QAP) is a common problem involving the assignment of facilities onto different locations. As quoted from Wikipedia: \n",
    "\n",
    "*There are a set of **n facilities** and a set of **n locations**. For each pair of locations, a distance is specified and for each pair of facilities a weight or flow is specified (e.g., the amount of supplies transported between the two facilities). The problem is to assign all facilities to different locations with the goal of minimizing the sum of the distances multiplied by the corresponding flows.*\n",
    "\n",
    "### Example Problem\n",
    "Consider the following small example with 3 locations $\\{l_{0}, l_{1}, l_{2}\\}$ and 3 facilities $\\{f_{0} = school,  f_{1} = playground,  f_{2} = hospital \\}$. \n",
    "\n",
    "Suppose we are town planner deciding where to put these facilities in the town. We can assign one facility to each location on the map. The connection between each location represents the time taken to travel between the locations.   \n",
    "\n",
    "![title](media/qap_map1.jpg)\n",
    "\n",
    "In order to make this decision, we also need to know the expected throughput between each facility. Suppose we are given the expected number of people travelling between facilities:\n",
    "\n",
    "||School|Playground|Hospital|\n",
    "|-|-----|----------|--------|\n",
    "|School|0|100|1|\n",
    "|Playground|100|0|5|\n",
    "|Hospital|1|5|0|\n",
    "\n",
    "In this example, the expected throughput between facilities is symmetrical. \n",
    "\n",
    "### Example Assignment Configuration\n",
    "We want to place the facilities such that the overall expected travel time (cost) is minimized. An example of a configuration (not necessarily optimal) can be:\n",
    "$\\{\"school\": 3, \"playground\": 2, \"hospital\": 1\\}$\n",
    "\n",
    "With this configuration, the total cost becomes 1\\*20 + 5\\*2 + 100\\*14 = 1430\n",
    "\n",
    "### Optimal Configuration\n",
    "Since the problem is small, we can see that the optimal assignment is $\\{\"school\": 1, \"playground\": 2, \"hospital\": 3\\}$.   \n",
    "\n",
    "This results in a total cost of 100\\*2 + 1\\*20 + 5\\*14 = 290\n"
   ]
  },
  {
   "cell_type": "markdown",
   "metadata": {},
   "source": [
    "## Converting QAP to QUBO\n",
    "\n",
    "It is important to note that the quadratic assignment problem is not natively an unconstrained binary problem. In order to convert this to QUBO form, we need to define an encoding strategy. "
   ]
  },
  {
   "cell_type": "code",
   "execution_count": null,
   "metadata": {},
   "outputs": [],
   "source": []
  },
  {
   "cell_type": "code",
   "execution_count": null,
   "metadata": {},
   "outputs": [],
   "source": []
  },
  {
   "cell_type": "code",
   "execution_count": null,
   "metadata": {},
   "outputs": [],
   "source": []
  },
  {
   "cell_type": "code",
   "execution_count": null,
   "metadata": {},
   "outputs": [],
   "source": []
  }
 ],
 "metadata": {
  "kernelspec": {
   "display_name": "Python 3",
   "language": "python",
   "name": "python3"
  },
  "language_info": {
   "codemirror_mode": {
    "name": "ipython",
    "version": 3
   },
   "file_extension": ".py",
   "mimetype": "text/x-python",
   "name": "python",
   "nbconvert_exporter": "python",
   "pygments_lexer": "ipython3",
   "version": "3.8.1"
  }
 },
 "nbformat": 4,
 "nbformat_minor": 4
}
