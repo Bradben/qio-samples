{
 "cells": [
  {
   "cell_type": "markdown",
   "metadata": {},
   "source": [
    "# Quadratic Assignment Problem Sample\n",
    "\n",
    "**Workspace Setup**  \n",
    "An Azure Quantum workspace is needed for this sample. You will need to enter your Azure Quantum workspace details in the cell below before you submit a problem:"
   ]
  },
  {
   "cell_type": "code",
   "execution_count": null,
   "metadata": {},
   "outputs": [],
   "source": [
    "# You may need to upgrade your SDK to a version that supports SlcTerm\n",
    "!pip install azure-quantum --upgrade"
   ]
  },
  {
   "cell_type": "code",
   "execution_count": 7,
   "metadata": {},
   "outputs": [],
   "source": [
    "# This allows you to connect to the Workspace you've previously deployed in Azure.\n",
    "# Be sure to fill in the settings below which can be retrieved by running 'az quantum workspace show' in the terminal.\n",
    "from azure.quantum import Workspace\n",
    "\n",
    "# Copy the settings for your workspace below\n",
    "workspace = Workspace (\n",
    "  subscription_id = \"\",\n",
    "  resource_group = \"\",\n",
    "  name = \"\",\n",
    "  location = \"\"\n",
    ")"
   ]
  },
  {
   "cell_type": "code",
   "execution_count": null,
   "metadata": {},
   "outputs": [],
   "source": [
    "# Import additional packages\n",
    "import time\n",
    "from typing import List\n",
    "from azure.quantum.optimization import PopulationAnnealing\n",
    "from azure.quantum.optimization import Problem, ProblemType, Term, SlcTerm, GroupType"
   ]
  },
  {
   "cell_type": "markdown",
   "metadata": {},
   "source": [
    "# Quadratic Assignment Problem\n",
    "\n",
    "## Introduction\n",
    "The quadratic assignment problem (QAP) is an NP-hard problem involving the assignment of facilities onto different locations. As quoted from [Wikipedia](https://en.wikipedia.org/wiki/Quadratic_assignment_problem): \n",
    "\n",
    "*There are a set of **n facilities** and a set of **n locations**. For each pair of locations, a distance is specified and for each pair of facilities a weight or flow is specified (e.g., the amount of supplies transported between the two facilities). The problem is to assign all facilities to different locations with the goal of minimizing the sum of the distances multiplied by the corresponding flows.*\n",
    "\n",
    "### Example Problem\n",
    "Consider the following small example with 3 locations $\\{l_{0}, l_{1}, l_{2}\\}$ and 3 facilities $\\{f_{0} = school,  f_{1} = playground,  f_{2} = hospital \\}$. \n",
    "\n",
    "Suppose we are town planner deciding where to put these facilities in the town. We can assign one facility to each location on the map. The connection between each location represents the time taken to travel between the locations.   \n",
    "\n",
    "![title](media/qap_map1.jpg)\n",
    "\n",
    "In order to make this decision, we also need to know the expected \"throughput\" (i.e. persons travelling) between each facility. Suppose we are given the expected number of people travelling between facilities:\n",
    "\n",
    "||School|Playground|Hospital|\n",
    "|-|-----|----------|--------|\n",
    "|School|0|100|0|\n",
    "|Playground|100|0|5|\n",
    "|Hospital|0|5|0|\n",
    "\n",
    "In this example, the expected persons travelling between facilities is symmetrical (although it may not be in another problem). \n",
    "\n",
    "### Example Assignment Configuration\n",
    "We want to place the facilities such that the overall expected travel time (cost) is minimized. An example of a configuration (not necessarily optimal) can be:\n",
    "$\\{school: 2, playground: 1, hospital: 0\\}$\n",
    "\n",
    "With this configuration, the total cost becomes 0\\*20 + 5\\*2 + 100\\*14 = 1410\n",
    "\n",
    "### Optimal Configuration\n",
    "Since the problem is small, we can see that the optimal assignment is $\\{school: 0, playground: 1, hospital: 2\\}$.   \n",
    "\n",
    "This results in a total cost of 100\\*2 + 0\\*20 + 5\\*14 = 270\n",
    "\n",
    "\n",
    "### Code\n",
    "We can define the problem above as two adjacency matrix representations.\n",
    "\n",
    "|p |School|Playground|Hospital||t|Location 0|Location 1|Location 2|\n",
    "|-|-----|----------|--------|-|-|-----|----------|--------|\n",
    "|School|0|100|0| |**Location 0**|0|2|20|\n",
    "|Playground|100|0|5| |**Location 1**|2|0|14|\n",
    "|Hospital|0|5|0| |**Location 2**|20|14|0|"
   ]
  },
  {
   "cell_type": "code",
   "execution_count": 2,
   "metadata": {},
   "outputs": [],
   "source": [
    "locations = [\n",
    "    [0, 2, 20],\n",
    "    [2, 0, 14],\n",
    "    [20, 14,0]\n",
    "]\n",
    "\n",
    "facilities = [\n",
    "    [0, 100, 0],\n",
    "    [100, 0, 5],\n",
    "    [0, 5, 0]\n",
    "]"
   ]
  },
  {
   "cell_type": "markdown",
   "metadata": {},
   "source": [
    "## Converting QAP to QUBO\n",
    "\n",
    "The quadratic assignment problem is not natively an unconstrained binary problem. In order to convert this to QUBO form, we need to define an encoding strategy.  \n",
    "\n",
    "\n",
    "### Variable Definition\n",
    "One way to do this is to define the following binary variable $x_{i,j}$ that represents whether facility $i$ is assigned to location $j$. \n",
    "\n",
    "For the above case of 3 facilities and 3 locations, we have the following 9 binary variables:\n",
    "\n",
    "||School|Playground|Hospital|\n",
    "|-|-----|----------|--------|\n",
    "|Location 0|$x_{0,0}$|$x_{1,0}$|$x_{2,0}$|\n",
    "|Location 1|$x_{0,1}$|$x_{1,1}$|$x_{2,1}$|\n",
    "|Location 2|$x_{0,2}$|$x_{1,2}$|$x_{2,2}$|\n",
    "\n",
    "Where $x_{i,j}$ is 1 if assigned, 0 if not.\n",
    "\n",
    "- This formulation assumes a symmetric flow between different locations and different facilities. \n",
    "- The number of binary variables increases quadratically with the original number of locations and facilities. \n",
    "\n",
    "\n",
    "### Objective Function and Coefficient Definition\n",
    "Recall that we have 2 matrices that define the neighbouring flows between locations (t = time to travel) and facilities (p = persons travelling). \n",
    "\n",
    "|p |School|Playground|Hospital||t|Location 0|Location 1|Location 2|\n",
    "|-|-----|----------|--------|-|-|-----|----------|--------|\n",
    "|School|0|100|0| |**Location 0**|0|2|20|\n",
    "|Playground|100|0|5| |**Location 1**|2|0|14|\n",
    "|Hospital|0|5|0| |**Location 2**|20|14|0|\n",
    "\n",
    "\n",
    "The expression for the total \"cost\" of the system (in this case total travel time) can be written as:\n",
    "\n",
    "$$ Minimize \\quad Cost = \\sum_{i,j,k!=i,l!=j} p_{i,k} \\cdot t_{j,l} \\cdot x_{i,j}\\cdot x_{k,l}$$\n",
    "\n",
    "\n",
    "**Intuition**  \n",
    "Consider a decision variable $x_{0,0}$ (representing **school** assigned to **location 0**). We want consider its cost contribution when placed next to all other possible assignments that **do not include school and location 0**. \n",
    "\n",
    "The 4 variables that fit this criteria are: $x_{1,1},x_{1,2},x_{2,1},x_{2,2}$\n",
    "\n",
    "Considering the effect of $x_{0,0}$ and $x_{1,2}$, we multiply the connections between their respective facilities and locations. Here school (facility 0) is placed next to playground (facility 1) which has a 100 weight. The cost between location 0 and 2 is 20. The total weight of this edge is 20\\*100 = 2000. \n",
    "\n",
    "Repeat this for every  $x_{i,j}$ and we have the objective function. \n",
    "\n",
    "### Code\n",
    "The code snippet below constructs the terms for this example using the two matrices and variable definition above."
   ]
  },
  {
   "cell_type": "code",
   "execution_count": 11,
   "metadata": {},
   "outputs": [
    {
     "name": "stdout",
     "output_type": "stream",
     "text": [
      "variables -> ids: {(0, 0): 0, (0, 1): 1, (0, 2): 2, (1, 0): 3, (1, 1): 4, (1, 2): 5, (2, 0): 6, (2, 1): 7, (2, 2): 8}\n",
      "terms: [{'c': 100.0, 'ids': [0, 4]}, {'c': 1000.0, 'ids': [0, 5]}, {'c': 0.0, 'ids': [0, 7]}, {'c': 0.0, 'ids': [0, 8]}, {'c': 100.0, 'ids': [1, 3]}, {'c': 700.0, 'ids': [1, 5]}, {'c': 0.0, 'ids': [1, 6]}, {'c': 0.0, 'ids': [1, 8]}, {'c': 1000.0, 'ids': [2, 3]}, {'c': 700.0, 'ids': [2, 4]}, {'c': 0.0, 'ids': [2, 6]}, {'c': 0.0, 'ids': [2, 7]}, {'c': 100.0, 'ids': [3, 1]}, {'c': 1000.0, 'ids': [3, 2]}, {'c': 5.0, 'ids': [3, 7]}, {'c': 50.0, 'ids': [3, 8]}, {'c': 100.0, 'ids': [4, 0]}, {'c': 700.0, 'ids': [4, 2]}, {'c': 5.0, 'ids': [4, 6]}, {'c': 35.0, 'ids': [4, 8]}, {'c': 1000.0, 'ids': [5, 0]}, {'c': 700.0, 'ids': [5, 1]}, {'c': 50.0, 'ids': [5, 6]}, {'c': 35.0, 'ids': [5, 7]}, {'c': 0.0, 'ids': [6, 1]}, {'c': 0.0, 'ids': [6, 2]}, {'c': 5.0, 'ids': [6, 4]}, {'c': 50.0, 'ids': [6, 5]}, {'c': 0.0, 'ids': [7, 0]}, {'c': 0.0, 'ids': [7, 2]}, {'c': 5.0, 'ids': [7, 3]}, {'c': 35.0, 'ids': [7, 5]}, {'c': 0.0, 'ids': [8, 0]}, {'c': 0.0, 'ids': [8, 1]}, {'c': 50.0, 'ids': [8, 3]}, {'c': 35.0, 'ids': [8, 4]}]\n"
     ]
    }
   ],
   "source": [
    "# variable ids\n",
    "# we will assign a numerical id to each x_i,j variable for a total of 9 variables\n",
    "n = 3\n",
    "variable_map = {}\n",
    "for i in range(n):\n",
    "    for j in range(n):\n",
    "        variable_map[(i,j)] = i*n + j\n",
    "\n",
    "terms_list = [] \n",
    "\n",
    "# iterate through each variable and build its neighbours\n",
    "# note: we are not condensing common terms right now.\n",
    "for x1 in variable_map: \n",
    "    i,j = x1\n",
    "    \n",
    "    # neighbours are other variables that do not share the same location/facility as the current one\n",
    "    neighbours = [var for var in variable_map if var[0] != i and var[1] != j]\n",
    "    for x2 in neighbours:\n",
    "        i2,j2 = x2\n",
    "        c = locations[j][j2]*facilities[i][i2]/2.0 # divide by 2 because of symmetrical matrix\n",
    "        terms_list.append(Term(c=c, indices=[variable_map[x1], variable_map[x2]]))\n",
    "\n",
    "print(\"variables -> ids:\", variable_map)\n",
    "print(\"\\nterms:\", terms_list)"
   ]
  },
  {
   "cell_type": "markdown",
   "metadata": {},
   "source": [
    "## Constraints and Penalty Terms\n",
    "\n",
    "You might have noticed that the objective function definition described above is missing a crucial component - that is, the additional constraints that arise from the binary formulation. \n",
    "\n",
    "The main constraints in the original problem that are lost in the above binary formulation are the following:\n",
    "- facilities cannot be reused\n",
    "- one location must hold exactly one facility (not more, not less)\n",
    "\n",
    "To translate this into mathematical expressions, we have:\n",
    "\n",
    "$$  \\sum_{i} x_{i,k} = 1 \\quad \\text{for all k}$$\n",
    "$$  \\sum_{i} x_{k,i} = 1 \\quad \\text{for all k}$$\n",
    "\n",
    "In other words, only one of each variable that contains the same location (or facility) can be committed at a time. All other cases are invalid. \n",
    "\n",
    "In order to enforce this constraint in the binary objective function above, we introduce the concept of **penalty terms**.\n",
    "\n",
    "### Penalty terms\n",
    "Penalty terms are additional terms on top of the objective function that represent the constraints. They increase the objective value if a constraint has been violated. Since the constraints for this problem are all equality constraints, a penalty term is a squared linear combination of the associated variables. \n",
    "\n",
    "$$  P \\cdot (\\sum_{i} x_{i,k} - 1)^2 \\quad \\text{for all k}$$\n",
    "$$  P \\cdot (\\sum_{i} x_{k,i} - 1)^2 \\quad \\text{for all k}$$\n",
    "\n",
    "The penalty (P) value is configurable and should be chosen such that the terms have enough impact on the cost function (so we get a feasible solution), but not too large that the barriers result in being stuck at a local minima. \n",
    "\n",
    "\n",
    "### Code\n",
    "The code uses a new feature on Azure Quantum called the SlcTerm (Squared Linear Combination) that allows you to specify the equality penalty in its factored form. You can also opt to expand out the raw monomial terms (although that will use more space and increase the size of the final problem). \n",
    "\n",
    "The SlcTerm supports an expression in the form:\n",
    "\n",
    "$$  P \\cdot (\\sum_{i} c_{i} x_{i} + k)^2 \\quad $$\n",
    "\n",
    "In our example, $k = -1$ and $c_i = 1$"
   ]
  },
  {
   "cell_type": "code",
   "execution_count": 12,
   "metadata": {},
   "outputs": [
    {
     "name": "stdout",
     "output_type": "stream",
     "text": [
      "Number of monimial terms: 36, number of grouped terms: 6\n",
      "Grouped terms: [{'c': 1000, 'terms': [{'c': 1, 'ids': [0]}, {'c': 1, 'ids': [1]}, {'c': 1, 'ids': [2]}, {'c': -1, 'ids': []}]}, {'c': 1000, 'terms': [{'c': 1, 'ids': [3]}, {'c': 1, 'ids': [4]}, {'c': 1, 'ids': [5]}, {'c': -1, 'ids': []}]}, {'c': 1000, 'terms': [{'c': 1, 'ids': [6]}, {'c': 1, 'ids': [7]}, {'c': 1, 'ids': [8]}, {'c': -1, 'ids': []}]}, {'c': 1000, 'terms': [{'c': 1, 'ids': [0]}, {'c': 1, 'ids': [3]}, {'c': 1, 'ids': [6]}, {'c': -1, 'ids': []}]}, {'c': 1000, 'terms': [{'c': 1, 'ids': [1]}, {'c': 1, 'ids': [4]}, {'c': 1, 'ids': [7]}, {'c': -1, 'ids': []}]}, {'c': 1000, 'terms': [{'c': 1, 'ids': [2]}, {'c': 1, 'ids': [5]}, {'c': 1, 'ids': [8]}, {'c': -1, 'ids': []}]}]\n"
     ]
    }
   ],
   "source": [
    "# here we set penalty to the largest coefficient in the original objective function (although we can go higher than this)\n",
    "P = 1000\n",
    "k = -1\n",
    "\n",
    "# construct facility constraints\n",
    "for i in range(n):    \n",
    "    terms_list.append(SlcTerm(\n",
    "        c = P,\n",
    "        terms = [\n",
    "            Term(\n",
    "                c = 1,\n",
    "                indices = [variable_map[(i,j)]]\n",
    "            )\n",
    "        for j in range(n)\n",
    "        ] + \n",
    "        [Term(c=k, indices=[])] #constant k term\n",
    "    ))\n",
    "\n",
    "# construct location constraints\n",
    "for i in range(n):    \n",
    "    terms_list.append(SlcTerm(\n",
    "        c = P,\n",
    "        terms = [\n",
    "            Term(\n",
    "                c = 1,\n",
    "                indices = [variable_map[(j,i)]]\n",
    "            )\n",
    "        for j in range(n)\n",
    "        ] + \n",
    "        [Term(c=k, indices=[])] #constant k term\n",
    "    ))\n",
    "\n",
    "# construct final problem with all the terms (monomial and slc)\n",
    "problem = Problem(name=\"Small QAP\", problem_type=ProblemType.pubo, terms=terms_list)\n",
    "\n",
    "print(f\"Number of monimial terms: {len(problem.terms)}, number of grouped terms: {len(problem.terms_slc)}\")\n",
    "print(f\"\\nGrouped terms: {problem.terms_slc}\")"
   ]
  },
  {
   "cell_type": "markdown",
   "metadata": {},
   "source": [
    "## Submitting problem to the Azure Quantum solver\n",
    "\n",
    "The SlcTerm functionality is only available on the [Population Annealing](https://docs.microsoft.com/azure/quantum/optimization-population-annealing#parameterized-population-annealing) and [Substochastic Monte Carlo](https://docs.microsoft.com/azure/quantum/optimization-substochastic-monte-carlo#parameterized-substochastic-monte-carlo) solvers. For this sample we will use the population annealing solver with its default parameters (since the problem is trivial).\n",
    "\n"
   ]
  },
  {
   "cell_type": "code",
   "execution_count": 16,
   "metadata": {},
   "outputs": [
    {
     "name": "stdout",
     "output_type": "stream",
     "text": [
      "Submitting QAP...\n",
      "....Result in 3.7 seconds:  {'configuration': {'0': 1, '1': 0, '2': 0, '3': 0, '4': 1, '5': 0, '6': 0, '7': 0, '8': 1}, 'cost': 270.0}\n"
     ]
    }
   ],
   "source": [
    "solver = PopulationAnnealing(\n",
    "    workspace,\n",
    "    sweeps=10,\n",
    "    seed=10\n",
    ")\n",
    "\n",
    "print('Submitting QAP...')\n",
    "start = time.time()\n",
    "result = solver.optimize(problem)\n",
    "timeElapsed = time.time() - start\n",
    "print('Result in {:.1f} seconds: '.format(timeElapsed), result[\"solutions\"][0])"
   ]
  },
  {
   "cell_type": "markdown",
   "metadata": {},
   "source": [
    "We can see that the cost (270) matches the optimal solution that we found at the beginning of this exercise. \n",
    "\n",
    "The solver returns a configuration mapped to the binary variables, but to interpret this, we need to map them back to the original variable definitions. "
   ]
  },
  {
   "cell_type": "code",
   "execution_count": 17,
   "metadata": {},
   "outputs": [
    {
     "name": "stdout",
     "output_type": "stream",
     "text": [
      "Facility 0 assigned to Location 0\n",
      "Facility 1 assigned to Location 1\n",
      "Facility 2 assigned to Location 2\n"
     ]
    }
   ],
   "source": [
    "solution = result[\"solutions\"][0]\n",
    "for v in variable_map:\n",
    "    var_id = variable_map[v]\n",
    "    if solution[\"configuration\"][str(var_id)] == 1:\n",
    "        print(f\"Facility {v[0]} assigned to Location {v[1]}\")\n",
    "        "
   ]
  },
  {
   "cell_type": "markdown",
   "metadata": {},
   "source": [
    "## Further Resources\n",
    "A public list of larger quadratic assignment problems can be found at [Cor\\@l](https://coral.ise.lehigh.edu/data-sets/qaplib/) . As an exercise, you can try converting them into Azure Quantum QIO form using the same method described above.\n"
   ]
  },
  {
   "cell_type": "code",
   "execution_count": null,
   "metadata": {},
   "outputs": [],
   "source": []
  }
 ],
 "metadata": {
  "kernelspec": {
   "display_name": "Python 3 (ipykernel)",
   "language": "python",
   "name": "python3"
  },
  "language_info": {
   "codemirror_mode": {
    "name": "ipython",
    "version": 3
   },
   "file_extension": ".py",
   "mimetype": "text/x-python",
   "name": "python",
   "nbconvert_exporter": "python",
   "pygments_lexer": "ipython3",
   "version": "3.7.11"
  }
 },
 "nbformat": 4,
 "nbformat_minor": 4
}
