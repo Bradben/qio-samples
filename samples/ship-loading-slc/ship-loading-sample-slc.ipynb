# Demo for grouped cost function terms

## Squared-linear combination (SLC) terms

Ensure that you have the latest version of the Python SDK for Optimization installed. You can use the commands below to update your SDK from inside the notebook.


```python
!pip uninstall azure-quantum -y
!pip install azure-quantum
```

Add your workspace details in the next cell.


```python
import time
from typing import List
from azure.quantum import Workspace
from azure.quantum.optimization import SubstochasticMonteCarlo
from azure.quantum.optimization import Problem, ProblemType, Term, SlcTerm, GroupType

workspace = Workspace (
  subscription_id = "",
  resource_group = "",
  name = "",
  location = ""
)
```

### Freight-balancing problem (FBP)

The freight-balancing problem is a formulation of the *number partitioning problem*, which seeks a partition of a set of positive numbers into two sets that minimizes the difference between the set-wise sums. This example is drawn from the Microsoft Learn document [Apply QIO to a real-world problem](https://docs.microsoft.com/en-us/learn/modules/solve-quantum-inspired-optimization-problems/5-apply-quantum-inspired-optimization-real-world).

Given weights (numbers) $w_1, \dots, w_d$ we seek to minimize the difference
$ \Big| \sum_{i \in A} w_i - \sum_{i \in B} w_i \Big| $
where $A$ and $B$ partition $\{1,\dots, d\}$. This is equivalent to minimizing the square $ \Big( \sum_{i \in A} w_i - \sum_{i \in B} w_i \Big)^2 . $

Hence, this Ising problem may be captured by the following cost function in factored form:
$ q(x) := \Big( \sum_{i=1}^d w_ix_i \Big)^2 , $
where $x_i = 1$ if $w_i$ is assigned to the first set $A$, while $x_i = -1$ if $w_i$ is assigned to the second set $B$.
Equivalently, we compute the expanded form:
$ q(x) = \sum_{i=1}^d w_i^2 x_i^2 + 2\sum_{i=1}^d \sum_{j=i+1}^d w_iw_jx_ix_j . $

To prepare the solve, we initialize a list of weights (from which we will generate the problem cost function) and a solver.


```python
from azure.quantum.target.solvers import RangeSchedule

# This array contains the weights to partition
weights = [
    2, 5, 9, 21, 35, 5, 3, 5, 10, 11,
    23, 13, 8, 7, 12, 19, 22, 54, 33,
]

# Instantiate a solver
solver = SubstochasticMonteCarlo(
    workspace,
    step_limit=10000,
    target_population=64,
    beta=RangeSchedule("linear", 0.1, 5),
    seed=42
)
```

#### Cost function: expanded form

We begin with the expanded form. Since Ising problems bear spin variables with values $\pm 1$, we may simplify the expression to:
$$ q(x) = \sum_{i=1}^d w_i^2 + 2\sum_{i=1}^d \sum_{j=i+1}^d w_iw_jx_ix_j $$
When creating the Problem, we will exclude the constant terms since they are unaffected by optimization. To interpret the reported cost after the solve, we will need to add this back in.


```python
def createFBP_expanded(weights: List[int]) -> Problem:
    # Expand the squared summation
    terms = []
    for i in range(len(weights)):
        for j in range(i+1, len(weights)):
            terms.append(
                Term(
                    c = 2 * weights[i] * weights[j],
                    indices = [i, j]
                )
            )

    # Return an Ising-type problem
    return Problem(name="Freight Balancing Problem", problem_type=ProblemType.ising, terms=terms)

# Create expanded problem for the given list of weights:
problem_expanded = createFBP_expanded(weights)
```

#### Cost function: factored form

With the factored form, we may simply input the cost function in a form better resembling the original derivation, recall:
$$ q(x) = \Big( \sum_{i=1}^d w_ix_i \Big)^2 . $$


```python
def createFBP_factored(weights: List[int]) -> Problem:
    # Construct the factored form
    terms = [
        SlcTerm(
            c = 1,
            terms = [
                Term(
                    c = weights[i],
                    indices = [i]
                )
            for i in range(len(weights))]
        )
    ]
    
    # Return an Ising-type problem
    return Problem(name="Freight Balancing Problem", problem_type=ProblemType.ising, terms=terms)

# Create expanded problem for the given list of weights:
problem_factored = createFBP_factored(weights)
```

#### Optimize


```python
# Optimize the expanded problem
print('Submitting expanded problem...')
start = time.time()
result = solver.optimize(problem_expanded)
timeElapsed = time.time() - start
print('Result in {:.1f} seconds: '.format(timeElapsed), result)

# To interpret reported cost, we must add in the constant value from w_i^2x_i^2 terms
constant_cost = 0
for w in weights:
    constant_cost += w**2
print('constant cost: ', constant_cost)
```


```python
# Optimize the factored problem
print('Submitting factored problem...')
start = time.time()
result = solver.optimize(problem_factored)
timeElapsed = time.time() - start
print('Result in {:.1f} seconds: '.format(timeElapsed), result)
```
