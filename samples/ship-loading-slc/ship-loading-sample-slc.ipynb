{
 "cells": [
  {
   "cell_type": "markdown",
   "source": [
    "# Using squared-linear combination (SLC) terms with the ship loading sample"
   ],
   "metadata": {}
  },
  {
   "cell_type": "markdown",
   "source": [
    "## Squared-linear combination (SLC) terms in Microsoft QIO"
   ],
   "metadata": {
    "tags": []
   }
  },
  {
   "cell_type": "markdown",
   "source": [
    "At the time of writing grouped terms and - more specifically - SlcTerms are in early access and only available for a subset of solvers. \n",
    "\n",
    "Ensure that you have the latest version of the Python SDK for Optimization - which contains the relevant functions for using SlcTerm objects - installed. \n",
    "\n",
    "You can use the commands below to update your SDK from inside the notebook."
   ],
   "metadata": {}
  },
  {
   "cell_type": "code",
   "execution_count": null,
   "source": [
    "!pip uninstall azure-quantum -y\r\n",
    "!pip install azure-quantum"
   ],
   "outputs": [],
   "metadata": {}
  },
  {
   "cell_type": "markdown",
   "source": [
    "Add your workspace details in the next cell.\n",
    "\n",
    "You can find these details in the Azure Portal or by running `az quantum workspace show` on the command line."
   ],
   "metadata": {}
  },
  {
   "cell_type": "code",
   "execution_count": null,
   "source": [
    "import time\r\n",
    "from typing import List\r\n",
    "from azure.quantum import Workspace\r\n",
    "from azure.quantum.optimization import SubstochasticMonteCarlo\r\n",
    "from azure.quantum.optimization import Problem, ProblemType, Term, SlcTerm, GroupType\r\n",
    "\r\n",
    "workspace = Workspace (\r\n",
    "  subscription_id = \"\",\r\n",
    "  resource_group = \"\",\r\n",
    "  name = \"\",\r\n",
    "  location = \"\"\r\n",
    ")"
   ],
   "outputs": [],
   "metadata": {}
  },
  {
   "cell_type": "markdown",
   "source": [
    "### The Ship Loading Sample or Freight-balancing problem (FBP)"
   ],
   "metadata": {
    "tags": []
   }
  },
  {
   "cell_type": "markdown",
   "source": [
    "The freight-balancing problem is a formulation of the *number partitioning problem*, which seeks a partition of a set of positive numbers into two sets that minimizes the difference between the set-wise sums. \r\n",
    "\r\n",
    "This example is drawn from the Microsoft Learn module [Apply QIO to a real-world problem](https://docs.microsoft.com/learn/modules/solve-quantum-inspired-optimization-problems/5-apply-quantum-inspired-optimization-real-world), where we adapt this problem for the ship-loading example. In this particular case we have a set of containers with different weights that need to be distributed between two container ships while trying to balance the load as much as possible.\r\n",
    "\r\n",
    "Given weights (numbers) $w_1, \\dots, w_d$ we seek to minimize the difference\r\n",
    "$ \\Big| \\sum_{i \\in A} w_i - \\sum_{i \\in B} w_i \\Big| $\r\n",
    "where $A$ and $B$ partition $\\{1,\\dots, d\\}$. This is equivalent to minimizing the square $ \\Big( \\sum_{i \\in A} w_i - \\sum_{i \\in B} w_i \\Big)^2 . $\r\n",
    "\r\n",
    "Hence, this Ising problem may be captured by the following cost function in factored form:\r\n",
    "$ q(x) := \\Big( \\sum_{i=1}^d w_ix_i \\Big)^2 , $\r\n",
    "where $x_i = 1$ if $w_i$ is assigned to the first set $A$, while $x_i = -1$ if $w_i$ is assigned to the second set $B$.\r\n",
    "Equivalently, we compute the expanded form:\r\n",
    "$ q(x) = \\sum_{i=1}^d w_i^2 x_i^2 + 2\\sum_{i=1}^d \\sum_{j=i+1}^d w_iw_jx_ix_j . $\r\n",
    "\r\n",
    "First, we initialize a list of weights (from which we will generate the problem cost function) and instantiate a solver."
   ],
   "metadata": {}
  },
  {
   "cell_type": "code",
   "execution_count": null,
   "source": [
    "from azure.quantum.target.solvers import RangeSchedule\r\n",
    "\r\n",
    "# This array contains the weights to partition\r\n",
    "weights = [\r\n",
    "    2, 5, 9, 21, 35, 5, 3, 5, 10, 11,\r\n",
    "    23, 13, 8, 7, 12, 19, 22, 54, 33,\r\n",
    "]\r\n",
    "\r\n",
    "# Instantiate a solver\r\n",
    "solver = SubstochasticMonteCarlo(\r\n",
    "    workspace,\r\n",
    "    step_limit=10000,\r\n",
    "    target_population=64,\r\n",
    "    beta=RangeSchedule(\"linear\", 0.1, 5),\r\n",
    "    seed=42\r\n",
    ")"
   ],
   "outputs": [],
   "metadata": {}
  },
  {
   "cell_type": "markdown",
   "source": [
    "#### Defining the expanded form of the cost function\r\n",
    "\r\n",
    "We begin with the expanded form. This is the same form used in the [ship loading sample](../ship-loading/README.md) and the [Microsoft Learn module](https://docs.microsoft.com/learn/modules/solve-quantum-inspired-optimization-problems/5-apply-quantum-inspired-optimization-real-world).\r\n",
    "\r\n",
    "Since Ising problems bear spin variables with values $\\pm 1$, we may simplify the expression to:\r\n",
    "$$ q(x) = \\sum_{i=1}^d w_i^2 + 2\\sum_{i=1}^d \\sum_{j=i+1}^d w_iw_jx_ix_j $$\r\n",
    "When creating the `Problem`, we will exclude the constant terms since they are unaffected by optimization. \r\n",
    "\r\n",
    "To interpret the cost returned by the Azure Quantum solver, we will need to add these back in.\r\n",
    "You can see how this is done at the end of this sample."
   ],
   "metadata": {}
  },
  {
   "cell_type": "code",
   "execution_count": null,
   "source": [
    "def createFBP_expanded(weights: List[int]) -> Problem:\r\n",
    "    # Expand the squared summation\r\n",
    "    terms = []\r\n",
    "    for i in range(len(weights)):\r\n",
    "        for j in range(i+1, len(weights)):\r\n",
    "            terms.append(\r\n",
    "                Term(\r\n",
    "                    c = 2 * weights[i] * weights[j],\r\n",
    "                    indices = [i, j]\r\n",
    "                )\r\n",
    "            )\r\n",
    "\r\n",
    "    # Return an Ising-type problem\r\n",
    "    return Problem(name=\"Freight Balancing Problem\", problem_type=ProblemType.ising, terms=terms)\r\n",
    "\r\n",
    "# Create expanded problem for the given list of weights:\r\n",
    "problem_expanded = createFBP_expanded(weights)"
   ],
   "outputs": [],
   "metadata": {}
  },
  {
   "cell_type": "markdown",
   "source": [
    "#### Defining the factored form of the cost function\r\n",
    "\r\n",
    "With the factored form, we may simply represent the cost function in a form more closely resembling the original derivation, recall:\r\n",
    "$$ q(x) = \\Big( \\sum_{i=1}^d w_ix_i \\Big)^2 . $$"
   ],
   "metadata": {}
  },
  {
   "cell_type": "code",
   "execution_count": null,
   "source": [
    "def createFBP_factored(weights: List[int]) -> Problem:\r\n",
    "    # Construct the factored form\r\n",
    "    terms = [\r\n",
    "        SlcTerm(\r\n",
    "            c = 1,\r\n",
    "            terms = [\r\n",
    "                Term(\r\n",
    "                    c = weights[i],\r\n",
    "                    indices = [i]\r\n",
    "                )\r\n",
    "            for i in range(len(weights))]\r\n",
    "        )\r\n",
    "    ]\r\n",
    "    \r\n",
    "    # Return an Ising-type problem\r\n",
    "    return Problem(name=\"Freight Balancing Problem\", problem_type=ProblemType.ising, terms=terms)\r\n",
    "\r\n",
    "# Create expanded problem for the given list of weights:\r\n",
    "problem_factored = createFBP_factored(weights)"
   ],
   "outputs": [],
   "metadata": {}
  },
  {
   "cell_type": "markdown",
   "source": [
    "#### Running both problem formulations\n",
    "\n",
    "As a next step we will run both problem formulations and compare the runtime on the service.\n",
    "\n",
    "To make sure that we've achieved the same result quality we need to add the constant cost to the cost value of the result of the expanded problem formulation. \n",
    "\n",
    "In this case we should end up with -7860 and 1 as cost values for the expanded and the factored form respectively. \n",
    "\n",
    "The constant cost should be 7861 which means that both solutions have essentially the same cost."
   ],
   "metadata": {}
  },
  {
   "cell_type": "code",
   "execution_count": null,
   "source": [
    "# Optimize the expanded problem\r\n",
    "print('Submitting expanded problem...')\r\n",
    "start = time.time()\r\n",
    "result = solver.optimize(problem_expanded)\r\n",
    "timeElapsed = time.time() - start\r\n",
    "print('Result in {:.1f} seconds: '.format(timeElapsed), result)\r\n",
    "\r\n",
    "# To interpret reported cost, we must add in the constant value from w_i^2x_i^2 terms\r\n",
    "constant_cost = 0\r\n",
    "for w in weights:\r\n",
    "    constant_cost += w**2\r\n",
    "print('constant cost: ', constant_cost)"
   ],
   "outputs": [],
   "metadata": {}
  },
  {
   "cell_type": "code",
   "execution_count": null,
   "source": [
    "# Optimize the factored problem\r\n",
    "print('Submitting factored problem...')\r\n",
    "start = time.time()\r\n",
    "result = solver.optimize(problem_factored)\r\n",
    "timeElapsed = time.time() - start\r\n",
    "print('Result in {:.1f} seconds: '.format(timeElapsed), result)"
   ],
   "outputs": [],
   "metadata": {}
  }
 ],
 "metadata": {
  "kernelspec": {
   "name": "python3",
   "display_name": "Python 3.9.6 64-bit ('ox': conda)"
  },
  "language_info": {
   "codemirror_mode": {
    "name": "ipython",
    "version": 3
   },
   "file_extension": ".py",
   "mimetype": "text/x-python",
   "name": "python",
   "nbconvert_exporter": "python",
   "pygments_lexer": "ipython3",
   "version": "3.9.6"
  },
  "interpreter": {
   "hash": "9a1585b68ad81bb97dda215d88560c564eeaac364ce5ee36f263db22603b05af"
  }
 },
 "nbformat": 4,
 "nbformat_minor": 5
}