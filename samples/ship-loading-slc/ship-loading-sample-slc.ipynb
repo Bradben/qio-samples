{
 "cells": [
  {
   "cell_type": "markdown",
   "id": "3500912a",
   "metadata": {},
   "source": [
    "# Using squared-linear combination (SLC) terms with the ship loading sample"
   ]
  },
  {
   "cell_type": "markdown",
   "id": "35c57a59",
   "metadata": {
    "tags": []
   },
   "source": [
    "## Squared-linear combination (SLC) terms in Microsoft QIO"
   ]
  },
  {
   "cell_type": "markdown",
   "id": "7f57cd26",
   "metadata": {},
   "source": [
    "To use `SlcTerm`, ensure that you have the latest version of the `azure-quantum` package installed. \n",
    "\n",
    "You can use the commands below to update your SDK from inside the notebook."
   ]
  },
  {
   "cell_type": "code",
   "execution_count": null,
   "id": "51bd703c",
   "metadata": {},
   "outputs": [],
   "source": [
    "!pip uninstall azure-quantum -y\n",
    "!pip install azure-quantum"
   ]
  },
  {
   "cell_type": "markdown",
   "id": "04c9041b",
   "metadata": {},
   "source": [
    "Add your workspace details in the next cell.\n",
    "\n",
    "You can find these details in the Azure Portal or by running `az quantum workspace show` on the command line."
   ]
  },
  {
   "cell_type": "code",
   "execution_count": null,
   "id": "1b8a0de0",
   "metadata": {},
   "outputs": [],
   "source": [
    "# This allows you to connect to the Workspace you've previously deployed in Azure.\n",
    "# Be sure to fill in the settings below which can be retrieved by running 'az quantum workspace show' in the terminal.\n",
    "from azure.quantum import Workspace\n",
    "\n",
    "# Copy the settings for your workspace below\n",
    "workspace = Workspace (\n",
    "    subscription_id = \"\",\n",
    "    resource_group = \"\",\n",
    "    name = \"\",\n",
    "    location = \"\"\n",
    ")"
   ]
  },
  {
   "cell_type": "code",
   "execution_count": null,
   "id": "dd353706",
   "metadata": {},
   "outputs": [],
   "source": [
    "# Add required imports\n",
    "import time\n",
    "from typing import List\n",
    "from azure.quantum.optimization import SubstochasticMonteCarlo\n",
    "from azure.quantum.optimization import Problem, ProblemType, Term, SlcTerm, GroupType, RangeSchedule"
   ]
  },
  {
   "cell_type": "markdown",
   "id": "3bb9ce4e",
   "metadata": {
    "tags": []
   },
   "source": [
    "### The Ship Loading Sample or Freight-balancing problem (FBP)"
   ]
  },
  {
   "cell_type": "markdown",
   "id": "9a70beb3",
   "metadata": {},
   "source": [
    "The freight-balancing problem is a formulation of the *number partitioning problem*, which seeks a partition of a set of positive numbers into two sets that minimizes the difference between the set-wise sums. \n",
    "\n",
    "This example is drawn from the Microsoft Learn module [Apply QIO to a real-world problem](https://docs.microsoft.com/learn/modules/solve-quantum-inspired-optimization-problems/5-apply-quantum-inspired-optimization-real-world), where we adapt this problem for the ship-loading example. In this particular case we have a set of containers with different weights that need to be distributed between two container ships while trying to balance the load as much as possible.\n",
    "\n",
    "Given weights (numbers) $w_1, \\dots, w_d$ we seek to minimize the difference\n",
    "$ \\Big| \\sum_{i \\in A} w_i - \\sum_{i \\in B} w_i \\Big| $\n",
    "where $A$ and $B$ partition $\\{1,\\dots, d\\}$. This is equivalent to minimizing the square $ \\Big( \\sum_{i \\in A} w_i - \\sum_{i \\in B} w_i \\Big)^2 . $\n",
    "\n",
    "Hence, this Ising problem may be captured by the following cost function in factored form:\n",
    "$ q(x) := \\Big( \\sum_{i=1}^d w_ix_i \\Big)^2 , $\n",
    "where $x_i = 1$ if $w_i$ is assigned to the first set $A$, while $x_i = -1$ if $w_i$ is assigned to the second set $B$.\n",
    "Equivalently, we compute the expanded form:\n",
    "$ q(x) = \\sum_{i=1}^d w_i^2 x_i^2 + 2\\sum_{i=1}^d \\sum_{j=i+1}^d w_iw_jx_ix_j . $\n",
    "\n",
    "First, we initialize a list of weights (from which we will generate the problem cost function) and instantiate a solver."
   ]
  },
  {
   "cell_type": "code",
   "execution_count": null,
   "id": "c3471253",
   "metadata": {},
   "outputs": [],
   "source": [
    "# This array contains the weights to partition\n",
    "weights = [\n",
    "    2, 5, 9, 21, 35, 5, 3, 5, 10, 11,\n",
    "    23, 13, 8, 7, 12, 19, 22, 54, 33,\n",
    "]\n",
    "\n",
    "# Instantiate a solver\n",
    "solver = SubstochasticMonteCarlo(\n",
    "    workspace,\n",
    "    step_limit=10000,\n",
    "    target_population=64,\n",
    "    beta=RangeSchedule(\"linear\", 0.1, 5),\n",
    "    seed=42\n",
    ")"
   ]
  },
  {
   "cell_type": "markdown",
   "id": "66a8346e",
   "metadata": {},
   "source": [
    "#### Defining the expanded form of the cost function\n",
    "\n",
    "We begin with the expanded form. This is the same form used in the [ship loading sample](../ship-loading/README.md) and the [Microsoft Learn module](https://docs.microsoft.com/learn/modules/solve-quantum-inspired-optimization-problems/5-apply-quantum-inspired-optimization-real-world).\n",
    "\n",
    "Since Ising problems bear spin variables with values $\\pm 1$, we may simplify the expression to:\n",
    "$$ q(x) = \\sum_{i=1}^d w_i^2 + 2\\sum_{i=1}^d \\sum_{j=i+1}^d w_iw_jx_ix_j $$\n",
    "When creating the `Problem`, we will exclude the constant terms since they are unaffected by optimization. \n",
    "\n",
    "To interpret the cost returned by the Azure Quantum solver, we will need to add these back in.\n",
    "You can see how this is done at the end of this sample."
   ]
  },
  {
   "cell_type": "code",
   "execution_count": null,
   "id": "916025d6",
   "metadata": {},
   "outputs": [],
   "source": [
    "def createFBP_expanded(weights: List[int]) -> Problem:\n",
    "    # Expand the squared summation\n",
    "    terms = []\n",
    "    for i in range(len(weights)):\n",
    "        for j in range(i+1, len(weights)):\n",
    "            terms.append(\n",
    "                Term(\n",
    "                    c = 2 * weights[i] * weights[j],\n",
    "                    indices = [i, j]\n",
    "                )\n",
    "            )\n",
    "\n",
    "    # Return an Ising-type problem\n",
    "    return Problem(name=\"Freight Balancing Problem\", problem_type=ProblemType.ising, terms=terms)\n",
    "\n",
    "# Create expanded problem for the given list of weights:\n",
    "problem_expanded = createFBP_expanded(weights)"
   ]
  },
  {
   "cell_type": "markdown",
   "id": "f349d15f",
   "metadata": {},
   "source": [
    "#### Defining the factored form of the cost function\n",
    "\n",
    "With the factored form, we may simply represent the cost function in a form more closely resembling the original derivation, recall:\n",
    "$$ q(x) = \\Big( \\sum_{i=1}^d w_ix_i \\Big)^2 . $$"
   ]
  },
  {
   "cell_type": "code",
   "execution_count": null,
   "id": "aad21b31",
   "metadata": {},
   "outputs": [],
   "source": [
    "def createFBP_factored(weights: List[int]) -> Problem:\n",
    "    # Construct the factored form\n",
    "    terms = [\n",
    "        SlcTerm(\n",
    "            c = 1,\n",
    "            terms = [\n",
    "                Term(\n",
    "                    c = weights[i],\n",
    "                    indices = [i]\n",
    "                )\n",
    "            for i in range(len(weights))]\n",
    "        )\n",
    "    ]\n",
    "    \n",
    "    # Return an Ising-type problem\n",
    "    return Problem(name=\"Freight Balancing Problem\", problem_type=ProblemType.ising, terms=terms)\n",
    "\n",
    "# Create expanded problem for the given list of weights:\n",
    "problem_factored = createFBP_factored(weights)"
   ]
  },
  {
   "cell_type": "markdown",
   "id": "2a45e659",
   "metadata": {},
   "source": [
    "#### Running both problem formulations\n",
    "\n",
    "As a next step we will run both problem formulations and compare the runtime on the service.\n",
    "\n",
    "To make sure that we've achieved the same result quality we need to add the constant cost to the cost value of the result of the expanded problem formulation. \n",
    "\n",
    "In this case we should end up with -7860 and 1 as cost values for the expanded and the factored form respectively. \n",
    "\n",
    "The constant cost should be 7861 which means that both solutions have essentially the same cost."
   ]
  },
  {
   "cell_type": "code",
   "execution_count": null,
   "id": "c2486b6a",
   "metadata": {},
   "outputs": [],
   "source": [
    "# Optimize the expanded problem\n",
    "print('Submitting expanded problem...')\n",
    "start = time.time()\n",
    "result = solver.optimize(problem_expanded)\n",
    "timeElapsed = time.time() - start\n",
    "print('Result in {:.1f} seconds: '.format(timeElapsed), result)\n",
    "\n",
    "# To interpret reported cost, we must add in the constant value from w_i^2x_i^2 terms\n",
    "constant_cost = 0\n",
    "for w in weights:\n",
    "    constant_cost += w**2\n",
    "print('constant cost: ', constant_cost)"
   ]
  },
  {
   "cell_type": "code",
   "execution_count": null,
   "id": "96dbcb3f",
   "metadata": {},
   "outputs": [],
   "source": [
    "# Optimize the factored problem\n",
    "print('Submitting factored problem...')\n",
    "start = time.time()\n",
    "result = solver.optimize(problem_factored)\n",
    "timeElapsed = time.time() - start\n",
    "print('Result in {:.1f} seconds: '.format(timeElapsed), result)"
   ]
  },
  {
   "cell_type": "markdown",
   "id": "c9361564",
   "metadata": {},
   "source": [
    "#### Available solvers\n",
    "\n",
    "In the sample we used the `SubstochasticMonteCarlo` solver. For the latest list of solvers that you can use with `SlcTerm`, view the [documentation](https://docs.microsoft.com/en-us/azure/quantum/optimization-slc-term).\n"
   ]
  }
 ],
 "metadata": {
  "interpreter": {
   "hash": "9a1585b68ad81bb97dda215d88560c564eeaac364ce5ee36f263db22603b05af"
  },
  "kernelspec": {
   "display_name": "Python 3 (ipykernel)",
   "language": "python",
   "name": "python3"
  },
  "language_info": {
   "codemirror_mode": {
    "name": "ipython",
    "version": 3
   },
   "file_extension": ".py",
   "mimetype": "text/x-python",
   "name": "python",
   "nbconvert_exporter": "python",
   "pygments_lexer": "ipython3",
   "version": "3.7.11"
  }
 },
 "nbformat": 4,
 "nbformat_minor": 5
}
