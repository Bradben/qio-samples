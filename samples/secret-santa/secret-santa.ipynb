{
 "cells": [
  {
   "cell_type": "markdown",
   "source": [
    "# Azure Quantum Optimization Sample: Secret Santa\r\n",
    "\r\n",
    "This sample walks through how to solve the Secret Santa problem using Azure Quantum. The scenario is defined as follows:\r\n",
    "\r\n",
    "- Vincent, Tess, and Uma each write their name on a slip of paper and place the paper in a jar.\r\n",
    "- Everybody then draws a slip of paper from the jar at random.\r\n",
    "- Each person buys a small gift and writes a poem for the person whose name they have drawn.\r\n",
    "  - If they draw their own name, they return the slip of paper and re-draw.\r\n",
    "\r\n",
    "> **Note:**\r\n",
    "> The inspiration for this scenario came from Vincent's blog post ([found here](https://vincent.frl/quantum-secret-santa/)), which demonstrates how to use [Q# and the QDK](https://docs.microsoft.com/azure/quantum/overview-what-is-qsharp-and-qdk) to solve this scenario. In this sample, we will make use of the [Azure Quantum QIO service](https://docs.microsoft.com/azure/quantum/optimization-what-is-quantum-optimization) to solve the same problem."
   ],
   "metadata": {}
  },
  {
   "cell_type": "markdown",
   "source": [
    "## Introduction: binary optimization\r\n",
    "\r\n",
    "Binary optimization problems take the general form:\r\n",
    "\r\n",
    "$\\text{Minimize: } \\sum_{k} term_k = \\sum_k c_k \\prod_{i} x_i \\text{ where } x_i \\in \\{ 0,1 \\} \\text{ or } \\{ -1 , 1 \\} \\text{ and } c_k \\in \\mathbb{R} $\r\n",
    "\r\n",
    "Our job is to define a mathematical representation of our problem in this binary format and then use Azure Quantum to solve it.\r\n",
    "\r\n",
    "For example, the problem shown below:\r\n",
    "\r\n",
    "$13 + 17x_0 + 23x_1x_3x_{77},$\r\n",
    "\r\n",
    "would be represented by the following Terms in the Azure Quantum Python SDK:\r\n",
    "\r\n",
    "```python\r\n",
    "terms = [Term(c = 13.0, indices = []), Term(c=17.0, indices = [0]) , Term(c = 23.0, indices = 1, 3, 77)] \r\n",
    "```\r\n",
    "\r\n",
    "> **Note:** See [this documentation page](https://docs.microsoft.com/azure/quantum/quickstart-microsoft-qio?pivots=platform-microsoft#express-a-simple-problem) for further information."
   ],
   "metadata": {}
  },
  {
   "cell_type": "markdown",
   "source": [
    "## Binary formulation for the Secret Santa problem\r\n",
    "\r\n",
    "To represent the Secret Santa problem, we can use six binary variables, as outlined in the Scenario Table below:\r\n",
    "\r\n",
    "|- buys ->|**Vincent**|**Tess**|**Uma**|\r\n",
    "|--|--|--|--|\r\n",
    "|**Vincent**|--|$x_0$|$x_1$|\r\n",
    "|**Tess**|$x_2$|--|$x_3$|\r\n",
    "|**Uma**|$x_3$|$x_4$|--|\r\n",
    "\r\n",
    "The constraints for the problem can be expressed as doing logical ANDs ($ \\land $) of variables that are EXLUSIVE-ORd ($ \\oplus $) together, like this:\r\n",
    "\r\n",
    "$\r\n",
    "( x_0 \\oplus x_1 ) \\land ( x_2 \\oplus x_3 ) \\land ( x_4 \\oplus x_5 ) \\land ( x_2 \\oplus x_4 ) \\land ( x_0 \\oplus x_5 ) \\land ( x_1 \\oplus x_3 )\r\n",
    "$\r\n",
    "\r\n",
    "$\r\n",
    "\\text{ where } x_i \\in \\{ 0,1 \\} \r\n",
    "$"
   ],
   "metadata": {}
  },
  {
   "cell_type": "markdown",
   "source": [
    "\r\n",
    "The truth table for exclusive or ($ \\oplus $) is shown below (one variable or the other is **one**, but not both):\r\n",
    "\r\n",
    "|$x_0$|$x_1$|$x_0 \\oplus x_1$|\r\n",
    "|--|--|--|\r\n",
    "|0|0|0|\r\n",
    "|0|1|1|\r\n",
    "|1|0|1|\r\n",
    "|1|1|0|\r\n",
    "\r\n",
    "Using this truth table, we can see how the constraints are derived. Looking at the Scenario Table defined previously:\r\n",
    "\r\n",
    "- Reading the first **row** of the table, Vincent may buy a gift and write a poem for Tess or for Uma, but not both.\r\n",
    "- Reading the first **column** of the table, Vincent may receive a gift and poem from Tess or from Uma, but not both.\r\n",
    "\r\n",
    "More generally:\r\n",
    "\r\n",
    "- Each person should give and receive **exactly one** gift from one other person in the group.\r\n",
    "  - If a person gives more or less than one gift, or receives more or less than one gift, this constraint has been violated and the solution will not be valid."
   ],
   "metadata": {}
  },
  {
   "cell_type": "markdown",
   "source": [
    "So, how do we represent $ ( x_0 \\oplus x_1 ) $ in a binary format that Azure Quantum will understand?\r\n",
    "\r\n",
    "Keeping in mind that we want to **minimize** our cost function, let's try to use the following representation:\r\n",
    "\r\n",
    "$ ( x_0 + x_1 - 1 )^2 $  \r\n",
    "\r\n",
    "Let's check the truth table for this formulation:\r\n",
    "\r\n",
    "|$x_0$|$x_1$|$(x_0 + x_1 - 1)^2$|\r\n",
    "|--|--|--|\r\n",
    "|0|0|1|\r\n",
    "|0|1|0|\r\n",
    "|1|0|0|\r\n",
    "|1|1|1|\r\n",
    "\r\n",
    "As you can see, in rows where there is exactly one $1$, the result is $0$. This means the penalty applied in those situations will be $0$. Since we want to minimize the cost function, getting $0$ for the answers we want is the correct result.\r\n",
    "\r\n",
    "We are almost there! The next step is to do a [quadratic expansion of this formula](https://en.wikipedia.org/wiki/Polynomial). This leaves us with the following expanded formula:\r\n",
    "\r\n",
    "$ x_0^2 + x_1^2 + 2x_0x_1 - 2x_0 - 2x_1 + 1 $\r\n",
    "\r\n",
    "We build up the Terms in the helper function `build_terms` shown below, but instead of using $x_0$ and $x_1$, we use the indices for our variables instead ($i$ and $j$). \r\n",
    "\r\n",
    "So for example, $x_0 \\oplus x_1$ (where $i = 0$ and $j = 1$) would translate to `build_terms(0, 1)`."
   ],
   "metadata": {}
  },
  {
   "cell_type": "code",
   "execution_count": null,
   "source": [
    "# Import required modules\r\n",
    "from typing import List\r\n",
    "from azure.quantum import Workspace\r\n",
    "from azure.quantum.optimization import Problem, ProblemType, Term, SimulatedAnnealing \r\n",
    "\r\n",
    "def build_terms(i: int, j: int):\r\n",
    "    \"\"\"\r\n",
    "    Construct Terms for a row or a column (two variables) of the Secret Santa matrix\r\n",
    "\r\n",
    "    Arguments:\r\n",
    "    i (int): index of first variable\r\n",
    "    j (int): index of second variable\r\n",
    "\r\n",
    "    \"\"\"\r\n",
    "    \r\n",
    "    terms = []                                      # Initialize empty terms list\r\n",
    "    terms.append(Term(c = 1.0, indices = [i, i]))   # x(i)^2\r\n",
    "    terms.append(Term(c = 1.0, indices = [j, j]))   # x(j)^2\r\n",
    "    terms.append(Term(c = 2.0, indices = [i, j]))   # 2x(i)x(j) \r\n",
    "    terms.append(Term(c = -2.0, indices = [i]))     # -2x(i)\r\n",
    "    terms.append(Term(c = -2.0, indices = [j]))     # -2x(j)\r\n",
    "    terms.append(Term(c = 1.0, indices = []))       # +1\r\n",
    "\r\n",
    "    return terms"
   ],
   "outputs": [],
   "metadata": {}
  },
  {
   "cell_type": "markdown",
   "source": [
    "We have one more helper function, which takes the answer returned from the service and interprets it in a human-readable way based on the Scenario Table, above."
   ],
   "metadata": {}
  },
  {
   "cell_type": "code",
   "execution_count": null,
   "source": [
    "def print_results(config: dict\r\n",
    "):\r\n",
    "    \"\"\"\r\n",
    "    print results of run\r\n",
    "\r\n",
    "    Arguements:\r\n",
    "    config (dictionary): config returned from solver\r\n",
    "    \"\"\"\r\n",
    "    result = {\r\n",
    "                '0': 'Vincent buys Tess a gift and writes her a poem.',\r\n",
    "                '1': 'Vincent buys Uma a gift and writes her a poem.',\r\n",
    "                '2': 'Tess buys Vincent a gift and writes him a poem.',\r\n",
    "                '3': 'Tess buys Uma a gift and writes her a poem.',\r\n",
    "                '4': 'Uma buys Vincent a gift and writes him a poem.',\r\n",
    "                '5': 'Uma buys Tess a gift and writes her a poem.'}\r\n",
    "\r\n",
    "    for key, val in config.items():\r\n",
    "        if val == 1:\r\n",
    "            print(result[key])"
   ],
   "outputs": [],
   "metadata": {}
  },
  {
   "cell_type": "markdown",
   "source": [
    "Bringing it all together:"
   ],
   "metadata": {}
  },
  {
   "cell_type": "code",
   "execution_count": null,
   "source": [
    "# Sign into your Azure Quantum workspace\r\n",
    "# Copy the settings for your workspace below\r\n",
    "workspace = Workspace(\r\n",
    "    subscription_id = \"\",\r\n",
    "    resource_group = \"\",\r\n",
    "    name = \"\",\r\n",
    "    location = \"\"\r\n",
    ")\r\n",
    "\r\n",
    "\"\"\"\r\n",
    "build secret santa matrix\r\n",
    "\r\n",
    "        Vincent Tess Uma\r\n",
    "Vincent    -    x(0) x(1)\r\n",
    "Tess      x(2)   -   x(3)\r\n",
    "Uma\t      x(4)  x(5)  -\r\n",
    "\"\"\"\r\n",
    "\r\n",
    "#       row 0             + row 1             + row 2                \r\n",
    "terms = build_terms(0, 1) + build_terms(2, 3) + build_terms(4, 5)\r\n",
    "\r\n",
    "#             + col 0             + col 1             + col 2\r\n",
    "terms = terms + build_terms(2, 4) + build_terms(0, 5) + build_terms(1, 3)\r\n",
    "\r\n",
    "print(f'Terms: {terms}\\n')\r\n",
    "\r\n",
    "problem = Problem(name = 'secret santa', problem_type = ProblemType.pubo, terms = terms)\r\n",
    "\r\n",
    "solver = SimulatedAnnealing(workspace, timeout = 2)\r\n",
    "\r\n",
    "print('Submitting problem to Azure Quantum')\r\n",
    "result = solver.optimize(problem)\r\n",
    "\r\n",
    "print(f'\\n\\nResult: {result}\\n')\r\n",
    "\r\n",
    "print('Human-readable solution:')\r\n",
    "print_results(result['configuration'])"
   ],
   "outputs": [],
   "metadata": {}
  },
  {
   "cell_type": "markdown",
   "source": [
    "## Next Steps\r\n",
    "\r\n",
    "Now that you have seen how to solve this problem in its expanded form, you can use the [Quadratic Assignment](../quadratic-assignment-problem) and [Ship Loading (SLC)](../ship-loading-slc) samples to rewrite the Secret Santa problem Terms using the [Squared Linear Combination](https://docs.microsoft.com/azure/quantum/optimization-slc-term) feature. This can significantly reduce the size of the problem.\r\n"
   ],
   "metadata": {}
  }
 ],
 "metadata": {
  "kernelspec": {
   "name": "python3",
   "display_name": "Python 3.9.6 64-bit ('ox': conda)"
  },
  "language_info": {
   "codemirror_mode": {
    "name": "ipython",
    "version": 3
   },
   "file_extension": ".py",
   "mimetype": "text/x-python",
   "name": "python",
   "nbconvert_exporter": "python",
   "pygments_lexer": "ipython3",
   "version": "3.9.6"
  },
  "interpreter": {
   "hash": "9a1585b68ad81bb97dda215d88560c564eeaac364ce5ee36f263db22603b05af"
  }
 },
 "nbformat": 4,
 "nbformat_minor": 5
}